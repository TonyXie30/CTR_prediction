{
 "cells": [
  {
   "cell_type": "code",
   "execution_count": 5,
   "metadata": {},
   "outputs": [],
   "source": [
    "import numpy as np\n",
    "import dask.dataframe as dd"
   ]
  },
  {
   "cell_type": "markdown",
   "metadata": {},
   "source": [
    "### config"
   ]
  },
  {
   "cell_type": "code",
   "execution_count": 3,
   "metadata": {},
   "outputs": [],
   "source": [
    "DATA_PATH = 'Data/'"
   ]
  },
  {
   "cell_type": "markdown",
   "metadata": {},
   "source": [
    "## Read data"
   ]
  },
  {
   "cell_type": "code",
   "execution_count": 4,
   "metadata": {},
   "outputs": [],
   "source": [
    "train = dd.read_csv(DATA_PATH+'train.csv',assume_missing=True).compute()\n",
    "test = dd.read_csv(DATA_PATH+'test.csv',assume_missing=True).compute()"
   ]
  },
  {
   "cell_type": "markdown",
   "metadata": {},
   "source": [
    "## Calculate standard correlation coefficient"
   ]
  },
  {
   "cell_type": "code",
   "execution_count": 6,
   "metadata": {},
   "outputs": [
    {
     "data": {
      "text/plain": [
       "click               1.000000\n",
       "C16                 0.130007\n",
       "banner_pos          0.025890\n",
       "C18                 0.021634\n",
       "id                 -0.000285\n",
       "C19                -0.003978\n",
       "hour               -0.007782\n",
       "C15                -0.032521\n",
       "C1                 -0.036855\n",
       "device_type        -0.037830\n",
       "C17                -0.055681\n",
       "C20                -0.057506\n",
       "C14                -0.060169\n",
       "C21                -0.069953\n",
       "device_conn_type   -0.083408\n",
       "Name: click, dtype: float64"
      ]
     },
     "execution_count": 6,
     "metadata": {},
     "output_type": "execute_result"
    }
   ],
   "source": [
    "# select the columns which are numerical and calculate the correlation matrix\n",
    "# site_id             object\n",
    "# site_domain         object\n",
    "# site_category       object\n",
    "# app_id              object\n",
    "# app_domain          object\n",
    "# app_category        object\n",
    "# device_id           object\n",
    "# device_ip           object\n",
    "# device_model        object\n",
    "train_numerical = train.select_dtypes(include=[np.number])\n",
    "\n",
    "\n",
    "corr_matrix = train_numerical.corr().compute()\n",
    "corr_matrix[\"click\"].sort_values(ascending=False)"
   ]
  },
  {
   "cell_type": "markdown",
   "metadata": {},
   "source": [
    "## Reduce the size of dataset"
   ]
  },
  {
   "cell_type": "code",
   "execution_count": 12,
   "metadata": {},
   "outputs": [],
   "source": [
    "from sklearn.model_selection import StratifiedShuffleSplit\n",
    "split = StratifiedShuffleSplit(n_splits=1,train_size=0.05,random_state=42)\n",
    "for train_index, test_index in split.split(train,train[\"click\"]):\n",
    "    stra_train_set = train.iloc[train_index]\n",
    "    stra_train_set.to_csv(\"train_select.csv\",header = True)"
   ]
  },
  {
   "cell_type": "code",
   "execution_count": 7,
   "metadata": {},
   "outputs": [
    {
     "name": "stdout",
     "output_type": "stream",
     "text": [
      "click\n",
      "0.0    1678195\n",
      "1.0     343253\n",
      "Name: count, dtype: int64\n",
      "click\n",
      "0.0    33563901\n",
      "1.0     6865066\n",
      "Name: count, dtype: int64\n"
     ]
    }
   ],
   "source": [
    "train_select = dd.read_csv(\"train_select.csv\").compute()\n",
    "print(train_select.click.value_counts())\n",
    "print(train.click.value_counts())"
   ]
  }
 ],
 "metadata": {
  "kernelspec": {
   "display_name": "Python 3 (ipykernel)",
   "language": "python",
   "name": "python3"
  },
  "language_info": {
   "codemirror_mode": {
    "name": "ipython",
    "version": 3
   },
   "file_extension": ".py",
   "mimetype": "text/x-python",
   "name": "python",
   "nbconvert_exporter": "python",
   "pygments_lexer": "ipython3",
   "version": "3.8.10"
  }
 },
 "nbformat": 4,
 "nbformat_minor": 4
}
